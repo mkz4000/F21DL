{
  "nbformat": 4,
  "nbformat_minor": 0,
  "metadata": {
    "colab": {
      "provenance": [],
      "collapsed_sections": [
        "WAK_qYgO_x6P",
        "BBvIRM3F_6pu",
        "Cwzq5PyQANyv",
        "8JDWRylSApki",
        "tNlAEiaBBECS",
        "E2n1iRNXCER-"
      ]
    },
    "kernelspec": {
      "name": "python3",
      "display_name": "Python 3"
    },
    "language_info": {
      "name": "python"
    }
  },
  "cells": [
    {
      "cell_type": "markdown",
      "source": [
        "# Introduction"
      ],
      "metadata": {
        "id": "PtlCM-XX8piu"
      }
    },
    {
      "cell_type": "markdown",
      "source": [
        "In this notebook we present different binary classifiers and compare thier results, We choose to predict High level cancer category so this practice will help us determine the conditions that best discover the cases with High level of cancers.\n",
        "\n",
        "We will display differnt measurement metrics including sensitivity, so if we managed to have a very accurate calssifier with high sensitivity, we can be sure that if our predection says it's not High level diagnosis then for sure it's not High level, which will give more trust with the patients and hope to get treatment."
      ],
      "metadata": {
        "id": "DarIcCoM8wK0"
      }
    },
    {
      "cell_type": "markdown",
      "source": [
        "# Basic Libraries Import"
      ],
      "metadata": {
        "id": "WAK_qYgO_x6P"
      }
    },
    {
      "cell_type": "code",
      "execution_count": 1,
      "metadata": {
        "id": "WCTZkUXwRax7"
      },
      "outputs": [],
      "source": [
        "# Common imports\n",
        "import numpy as np\n",
        "import pandas as pd\n",
        "\n",
        "# To plot pretty figures\n",
        "%matplotlib inline\n",
        "import matplotlib as mpl\n",
        "import matplotlib.pyplot as plt"
      ]
    },
    {
      "cell_type": "markdown",
      "source": [
        "# Load Dataset and explore"
      ],
      "metadata": {
        "id": "BBvIRM3F_6pu"
      }
    },
    {
      "cell_type": "code",
      "source": [
        "#read cancer patient data sets.csv from personal google drive directory and publicly shared\n",
        "patientsDf=pd.read_csv('https://drive.google.com/uc?id=1-IPjL7WS4lXgYWL7mnmykZ_Z_rvKcolL')\n",
        "\n",
        "# patientsDf=pd.read_csv('/content/drive/MyDrive/Colab Notebooks/datasets/cancer patient data sets.csv')\n",
        "# original data downloaded from https://www.kaggle.com/datasets/thedevastator/cancer-patients-and-air-pollution-a-new-link"
      ],
      "metadata": {
        "id": "lQMm9V7ZbvVJ"
      },
      "execution_count": 2,
      "outputs": []
    },
    {
      "cell_type": "markdown",
      "source": [
        "https://www.kaggle.com/datasets/thedevastator/cancer-patients-and-air-pollution-a-new-link"
      ],
      "metadata": {
        "id": "l3PsSmtjI5Bg"
      }
    },
    {
      "cell_type": "code",
      "source": [
        "patientsDf.head()"
      ],
      "metadata": {
        "colab": {
          "base_uri": "https://localhost:8080/",
          "height": 0
        },
        "id": "IcRqMmdSJHO2",
        "outputId": "25678d87-0fe4-4b0d-82a4-d85b5c0b4f15"
      },
      "execution_count": 3,
      "outputs": [
        {
          "output_type": "execute_result",
          "data": {
            "text/plain": [
              "   index Patient Id  Age  Gender  Air Pollution  Alcohol use  Dust Allergy  \\\n",
              "0      0         P1   33       1              2            4             5   \n",
              "1      1        P10   17       1              3            1             5   \n",
              "2      2       P100   35       1              4            5             6   \n",
              "3      3      P1000   37       1              7            7             7   \n",
              "4      4       P101   46       1              6            8             7   \n",
              "\n",
              "   OccuPational Hazards  Genetic Risk  chronic Lung Disease  ...  Fatigue  \\\n",
              "0                     4             3                     2  ...        3   \n",
              "1                     3             4                     2  ...        1   \n",
              "2                     5             5                     4  ...        8   \n",
              "3                     7             6                     7  ...        4   \n",
              "4                     7             7                     6  ...        3   \n",
              "\n",
              "   Weight Loss  Shortness of Breath  Wheezing  Swallowing Difficulty  \\\n",
              "0            4                    2         2                      3   \n",
              "1            3                    7         8                      6   \n",
              "2            7                    9         2                      1   \n",
              "3            2                    3         1                      4   \n",
              "4            2                    4         1                      4   \n",
              "\n",
              "   Clubbing of Finger Nails  Frequent Cold  Dry Cough  Snoring   Level  \n",
              "0                         1              2          3        4     Low  \n",
              "1                         2              1          7        2  Medium  \n",
              "2                         4              6          7        2    High  \n",
              "3                         5              6          7        5    High  \n",
              "4                         2              4          2        3    High  \n",
              "\n",
              "[5 rows x 26 columns]"
            ],
            "text/html": [
              "\n",
              "  <div id=\"df-7384be9b-9b27-4316-bcc8-be77f7573a7a\" class=\"colab-df-container\">\n",
              "    <div>\n",
              "<style scoped>\n",
              "    .dataframe tbody tr th:only-of-type {\n",
              "        vertical-align: middle;\n",
              "    }\n",
              "\n",
              "    .dataframe tbody tr th {\n",
              "        vertical-align: top;\n",
              "    }\n",
              "\n",
              "    .dataframe thead th {\n",
              "        text-align: right;\n",
              "    }\n",
              "</style>\n",
              "<table border=\"1\" class=\"dataframe\">\n",
              "  <thead>\n",
              "    <tr style=\"text-align: right;\">\n",
              "      <th></th>\n",
              "      <th>index</th>\n",
              "      <th>Patient Id</th>\n",
              "      <th>Age</th>\n",
              "      <th>Gender</th>\n",
              "      <th>Air Pollution</th>\n",
              "      <th>Alcohol use</th>\n",
              "      <th>Dust Allergy</th>\n",
              "      <th>OccuPational Hazards</th>\n",
              "      <th>Genetic Risk</th>\n",
              "      <th>chronic Lung Disease</th>\n",
              "      <th>...</th>\n",
              "      <th>Fatigue</th>\n",
              "      <th>Weight Loss</th>\n",
              "      <th>Shortness of Breath</th>\n",
              "      <th>Wheezing</th>\n",
              "      <th>Swallowing Difficulty</th>\n",
              "      <th>Clubbing of Finger Nails</th>\n",
              "      <th>Frequent Cold</th>\n",
              "      <th>Dry Cough</th>\n",
              "      <th>Snoring</th>\n",
              "      <th>Level</th>\n",
              "    </tr>\n",
              "  </thead>\n",
              "  <tbody>\n",
              "    <tr>\n",
              "      <th>0</th>\n",
              "      <td>0</td>\n",
              "      <td>P1</td>\n",
              "      <td>33</td>\n",
              "      <td>1</td>\n",
              "      <td>2</td>\n",
              "      <td>4</td>\n",
              "      <td>5</td>\n",
              "      <td>4</td>\n",
              "      <td>3</td>\n",
              "      <td>2</td>\n",
              "      <td>...</td>\n",
              "      <td>3</td>\n",
              "      <td>4</td>\n",
              "      <td>2</td>\n",
              "      <td>2</td>\n",
              "      <td>3</td>\n",
              "      <td>1</td>\n",
              "      <td>2</td>\n",
              "      <td>3</td>\n",
              "      <td>4</td>\n",
              "      <td>Low</td>\n",
              "    </tr>\n",
              "    <tr>\n",
              "      <th>1</th>\n",
              "      <td>1</td>\n",
              "      <td>P10</td>\n",
              "      <td>17</td>\n",
              "      <td>1</td>\n",
              "      <td>3</td>\n",
              "      <td>1</td>\n",
              "      <td>5</td>\n",
              "      <td>3</td>\n",
              "      <td>4</td>\n",
              "      <td>2</td>\n",
              "      <td>...</td>\n",
              "      <td>1</td>\n",
              "      <td>3</td>\n",
              "      <td>7</td>\n",
              "      <td>8</td>\n",
              "      <td>6</td>\n",
              "      <td>2</td>\n",
              "      <td>1</td>\n",
              "      <td>7</td>\n",
              "      <td>2</td>\n",
              "      <td>Medium</td>\n",
              "    </tr>\n",
              "    <tr>\n",
              "      <th>2</th>\n",
              "      <td>2</td>\n",
              "      <td>P100</td>\n",
              "      <td>35</td>\n",
              "      <td>1</td>\n",
              "      <td>4</td>\n",
              "      <td>5</td>\n",
              "      <td>6</td>\n",
              "      <td>5</td>\n",
              "      <td>5</td>\n",
              "      <td>4</td>\n",
              "      <td>...</td>\n",
              "      <td>8</td>\n",
              "      <td>7</td>\n",
              "      <td>9</td>\n",
              "      <td>2</td>\n",
              "      <td>1</td>\n",
              "      <td>4</td>\n",
              "      <td>6</td>\n",
              "      <td>7</td>\n",
              "      <td>2</td>\n",
              "      <td>High</td>\n",
              "    </tr>\n",
              "    <tr>\n",
              "      <th>3</th>\n",
              "      <td>3</td>\n",
              "      <td>P1000</td>\n",
              "      <td>37</td>\n",
              "      <td>1</td>\n",
              "      <td>7</td>\n",
              "      <td>7</td>\n",
              "      <td>7</td>\n",
              "      <td>7</td>\n",
              "      <td>6</td>\n",
              "      <td>7</td>\n",
              "      <td>...</td>\n",
              "      <td>4</td>\n",
              "      <td>2</td>\n",
              "      <td>3</td>\n",
              "      <td>1</td>\n",
              "      <td>4</td>\n",
              "      <td>5</td>\n",
              "      <td>6</td>\n",
              "      <td>7</td>\n",
              "      <td>5</td>\n",
              "      <td>High</td>\n",
              "    </tr>\n",
              "    <tr>\n",
              "      <th>4</th>\n",
              "      <td>4</td>\n",
              "      <td>P101</td>\n",
              "      <td>46</td>\n",
              "      <td>1</td>\n",
              "      <td>6</td>\n",
              "      <td>8</td>\n",
              "      <td>7</td>\n",
              "      <td>7</td>\n",
              "      <td>7</td>\n",
              "      <td>6</td>\n",
              "      <td>...</td>\n",
              "      <td>3</td>\n",
              "      <td>2</td>\n",
              "      <td>4</td>\n",
              "      <td>1</td>\n",
              "      <td>4</td>\n",
              "      <td>2</td>\n",
              "      <td>4</td>\n",
              "      <td>2</td>\n",
              "      <td>3</td>\n",
              "      <td>High</td>\n",
              "    </tr>\n",
              "  </tbody>\n",
              "</table>\n",
              "<p>5 rows × 26 columns</p>\n",
              "</div>\n",
              "    <div class=\"colab-df-buttons\">\n",
              "\n",
              "  <div class=\"colab-df-container\">\n",
              "    <button class=\"colab-df-convert\" onclick=\"convertToInteractive('df-7384be9b-9b27-4316-bcc8-be77f7573a7a')\"\n",
              "            title=\"Convert this dataframe to an interactive table.\"\n",
              "            style=\"display:none;\">\n",
              "\n",
              "  <svg xmlns=\"http://www.w3.org/2000/svg\" height=\"24px\" viewBox=\"0 -960 960 960\">\n",
              "    <path d=\"M120-120v-720h720v720H120Zm60-500h600v-160H180v160Zm220 220h160v-160H400v160Zm0 220h160v-160H400v160ZM180-400h160v-160H180v160Zm440 0h160v-160H620v160ZM180-180h160v-160H180v160Zm440 0h160v-160H620v160Z\"/>\n",
              "  </svg>\n",
              "    </button>\n",
              "\n",
              "  <style>\n",
              "    .colab-df-container {\n",
              "      display:flex;\n",
              "      gap: 12px;\n",
              "    }\n",
              "\n",
              "    .colab-df-convert {\n",
              "      background-color: #E8F0FE;\n",
              "      border: none;\n",
              "      border-radius: 50%;\n",
              "      cursor: pointer;\n",
              "      display: none;\n",
              "      fill: #1967D2;\n",
              "      height: 32px;\n",
              "      padding: 0 0 0 0;\n",
              "      width: 32px;\n",
              "    }\n",
              "\n",
              "    .colab-df-convert:hover {\n",
              "      background-color: #E2EBFA;\n",
              "      box-shadow: 0px 1px 2px rgba(60, 64, 67, 0.3), 0px 1px 3px 1px rgba(60, 64, 67, 0.15);\n",
              "      fill: #174EA6;\n",
              "    }\n",
              "\n",
              "    .colab-df-buttons div {\n",
              "      margin-bottom: 4px;\n",
              "    }\n",
              "\n",
              "    [theme=dark] .colab-df-convert {\n",
              "      background-color: #3B4455;\n",
              "      fill: #D2E3FC;\n",
              "    }\n",
              "\n",
              "    [theme=dark] .colab-df-convert:hover {\n",
              "      background-color: #434B5C;\n",
              "      box-shadow: 0px 1px 3px 1px rgba(0, 0, 0, 0.15);\n",
              "      filter: drop-shadow(0px 1px 2px rgba(0, 0, 0, 0.3));\n",
              "      fill: #FFFFFF;\n",
              "    }\n",
              "  </style>\n",
              "\n",
              "    <script>\n",
              "      const buttonEl =\n",
              "        document.querySelector('#df-7384be9b-9b27-4316-bcc8-be77f7573a7a button.colab-df-convert');\n",
              "      buttonEl.style.display =\n",
              "        google.colab.kernel.accessAllowed ? 'block' : 'none';\n",
              "\n",
              "      async function convertToInteractive(key) {\n",
              "        const element = document.querySelector('#df-7384be9b-9b27-4316-bcc8-be77f7573a7a');\n",
              "        const dataTable =\n",
              "          await google.colab.kernel.invokeFunction('convertToInteractive',\n",
              "                                                    [key], {});\n",
              "        if (!dataTable) return;\n",
              "\n",
              "        const docLinkHtml = 'Like what you see? Visit the ' +\n",
              "          '<a target=\"_blank\" href=https://colab.research.google.com/notebooks/data_table.ipynb>data table notebook</a>'\n",
              "          + ' to learn more about interactive tables.';\n",
              "        element.innerHTML = '';\n",
              "        dataTable['output_type'] = 'display_data';\n",
              "        await google.colab.output.renderOutput(dataTable, element);\n",
              "        const docLink = document.createElement('div');\n",
              "        docLink.innerHTML = docLinkHtml;\n",
              "        element.appendChild(docLink);\n",
              "      }\n",
              "    </script>\n",
              "  </div>\n",
              "\n",
              "\n",
              "<div id=\"df-f0f66cfc-a7dc-4edd-b209-181d0dfa3f41\">\n",
              "  <button class=\"colab-df-quickchart\" onclick=\"quickchart('df-f0f66cfc-a7dc-4edd-b209-181d0dfa3f41')\"\n",
              "            title=\"Suggest charts\"\n",
              "            style=\"display:none;\">\n",
              "\n",
              "<svg xmlns=\"http://www.w3.org/2000/svg\" height=\"24px\"viewBox=\"0 0 24 24\"\n",
              "     width=\"24px\">\n",
              "    <g>\n",
              "        <path d=\"M19 3H5c-1.1 0-2 .9-2 2v14c0 1.1.9 2 2 2h14c1.1 0 2-.9 2-2V5c0-1.1-.9-2-2-2zM9 17H7v-7h2v7zm4 0h-2V7h2v10zm4 0h-2v-4h2v4z\"/>\n",
              "    </g>\n",
              "</svg>\n",
              "  </button>\n",
              "\n",
              "<style>\n",
              "  .colab-df-quickchart {\n",
              "      --bg-color: #E8F0FE;\n",
              "      --fill-color: #1967D2;\n",
              "      --hover-bg-color: #E2EBFA;\n",
              "      --hover-fill-color: #174EA6;\n",
              "      --disabled-fill-color: #AAA;\n",
              "      --disabled-bg-color: #DDD;\n",
              "  }\n",
              "\n",
              "  [theme=dark] .colab-df-quickchart {\n",
              "      --bg-color: #3B4455;\n",
              "      --fill-color: #D2E3FC;\n",
              "      --hover-bg-color: #434B5C;\n",
              "      --hover-fill-color: #FFFFFF;\n",
              "      --disabled-bg-color: #3B4455;\n",
              "      --disabled-fill-color: #666;\n",
              "  }\n",
              "\n",
              "  .colab-df-quickchart {\n",
              "    background-color: var(--bg-color);\n",
              "    border: none;\n",
              "    border-radius: 50%;\n",
              "    cursor: pointer;\n",
              "    display: none;\n",
              "    fill: var(--fill-color);\n",
              "    height: 32px;\n",
              "    padding: 0;\n",
              "    width: 32px;\n",
              "  }\n",
              "\n",
              "  .colab-df-quickchart:hover {\n",
              "    background-color: var(--hover-bg-color);\n",
              "    box-shadow: 0 1px 2px rgba(60, 64, 67, 0.3), 0 1px 3px 1px rgba(60, 64, 67, 0.15);\n",
              "    fill: var(--button-hover-fill-color);\n",
              "  }\n",
              "\n",
              "  .colab-df-quickchart-complete:disabled,\n",
              "  .colab-df-quickchart-complete:disabled:hover {\n",
              "    background-color: var(--disabled-bg-color);\n",
              "    fill: var(--disabled-fill-color);\n",
              "    box-shadow: none;\n",
              "  }\n",
              "\n",
              "  .colab-df-spinner {\n",
              "    border: 2px solid var(--fill-color);\n",
              "    border-color: transparent;\n",
              "    border-bottom-color: var(--fill-color);\n",
              "    animation:\n",
              "      spin 1s steps(1) infinite;\n",
              "  }\n",
              "\n",
              "  @keyframes spin {\n",
              "    0% {\n",
              "      border-color: transparent;\n",
              "      border-bottom-color: var(--fill-color);\n",
              "      border-left-color: var(--fill-color);\n",
              "    }\n",
              "    20% {\n",
              "      border-color: transparent;\n",
              "      border-left-color: var(--fill-color);\n",
              "      border-top-color: var(--fill-color);\n",
              "    }\n",
              "    30% {\n",
              "      border-color: transparent;\n",
              "      border-left-color: var(--fill-color);\n",
              "      border-top-color: var(--fill-color);\n",
              "      border-right-color: var(--fill-color);\n",
              "    }\n",
              "    40% {\n",
              "      border-color: transparent;\n",
              "      border-right-color: var(--fill-color);\n",
              "      border-top-color: var(--fill-color);\n",
              "    }\n",
              "    60% {\n",
              "      border-color: transparent;\n",
              "      border-right-color: var(--fill-color);\n",
              "    }\n",
              "    80% {\n",
              "      border-color: transparent;\n",
              "      border-right-color: var(--fill-color);\n",
              "      border-bottom-color: var(--fill-color);\n",
              "    }\n",
              "    90% {\n",
              "      border-color: transparent;\n",
              "      border-bottom-color: var(--fill-color);\n",
              "    }\n",
              "  }\n",
              "</style>\n",
              "\n",
              "  <script>\n",
              "    async function quickchart(key) {\n",
              "      const quickchartButtonEl =\n",
              "        document.querySelector('#' + key + ' button');\n",
              "      quickchartButtonEl.disabled = true;  // To prevent multiple clicks.\n",
              "      quickchartButtonEl.classList.add('colab-df-spinner');\n",
              "      try {\n",
              "        const charts = await google.colab.kernel.invokeFunction(\n",
              "            'suggestCharts', [key], {});\n",
              "      } catch (error) {\n",
              "        console.error('Error during call to suggestCharts:', error);\n",
              "      }\n",
              "      quickchartButtonEl.classList.remove('colab-df-spinner');\n",
              "      quickchartButtonEl.classList.add('colab-df-quickchart-complete');\n",
              "    }\n",
              "    (() => {\n",
              "      let quickchartButtonEl =\n",
              "        document.querySelector('#df-f0f66cfc-a7dc-4edd-b209-181d0dfa3f41 button');\n",
              "      quickchartButtonEl.style.display =\n",
              "        google.colab.kernel.accessAllowed ? 'block' : 'none';\n",
              "    })();\n",
              "  </script>\n",
              "</div>\n",
              "\n",
              "    </div>\n",
              "  </div>\n"
            ],
            "application/vnd.google.colaboratory.intrinsic+json": {
              "type": "dataframe",
              "variable_name": "patientsDf"
            }
          },
          "metadata": {},
          "execution_count": 3
        }
      ]
    },
    {
      "cell_type": "markdown",
      "source": [
        "Each row represents a patient"
      ],
      "metadata": {
        "id": "oRJ0YWn7UsEa"
      }
    },
    {
      "cell_type": "code",
      "source": [
        "patientsDf.info()"
      ],
      "metadata": {
        "colab": {
          "base_uri": "https://localhost:8080/"
        },
        "id": "M_ElplpoLahi",
        "outputId": "a9167d9d-53f0-480c-8a62-dae758db91d5"
      },
      "execution_count": 4,
      "outputs": [
        {
          "output_type": "stream",
          "name": "stdout",
          "text": [
            "<class 'pandas.core.frame.DataFrame'>\n",
            "RangeIndex: 1000 entries, 0 to 999\n",
            "Data columns (total 26 columns):\n",
            " #   Column                    Non-Null Count  Dtype \n",
            "---  ------                    --------------  ----- \n",
            " 0   index                     1000 non-null   int64 \n",
            " 1   Patient Id                1000 non-null   object\n",
            " 2   Age                       1000 non-null   int64 \n",
            " 3   Gender                    1000 non-null   int64 \n",
            " 4   Air Pollution             1000 non-null   int64 \n",
            " 5   Alcohol use               1000 non-null   int64 \n",
            " 6   Dust Allergy              1000 non-null   int64 \n",
            " 7   OccuPational Hazards      1000 non-null   int64 \n",
            " 8   Genetic Risk              1000 non-null   int64 \n",
            " 9   chronic Lung Disease      1000 non-null   int64 \n",
            " 10  Balanced Diet             1000 non-null   int64 \n",
            " 11  Obesity                   1000 non-null   int64 \n",
            " 12  Smoking                   1000 non-null   int64 \n",
            " 13  Passive Smoker            1000 non-null   int64 \n",
            " 14  Chest Pain                1000 non-null   int64 \n",
            " 15  Coughing of Blood         1000 non-null   int64 \n",
            " 16  Fatigue                   1000 non-null   int64 \n",
            " 17  Weight Loss               1000 non-null   int64 \n",
            " 18  Shortness of Breath       1000 non-null   int64 \n",
            " 19  Wheezing                  1000 non-null   int64 \n",
            " 20  Swallowing Difficulty     1000 non-null   int64 \n",
            " 21  Clubbing of Finger Nails  1000 non-null   int64 \n",
            " 22  Frequent Cold             1000 non-null   int64 \n",
            " 23  Dry Cough                 1000 non-null   int64 \n",
            " 24  Snoring                   1000 non-null   int64 \n",
            " 25  Level                     1000 non-null   object\n",
            "dtypes: int64(24), object(2)\n",
            "memory usage: 203.2+ KB\n"
          ]
        }
      ]
    },
    {
      "cell_type": "markdown",
      "source": [
        "No missing data found\n",
        "All attributes Are Numerical (Ordinal in logic) except Patient Id and Level (which can be considered Ordinal i.e. High, Medium and Low), Age is the only true Numerical Feature excluding the index feature"
      ],
      "metadata": {
        "id": "SCSy0dOxUq88"
      }
    },
    {
      "cell_type": "code",
      "source": [
        "patientsDf.describe()"
      ],
      "metadata": {
        "colab": {
          "base_uri": "https://localhost:8080/",
          "height": 0
        },
        "id": "zvLVOvGKMHiE",
        "outputId": "35bf929e-4256-4ef1-8da0-aa4dacccfb5e"
      },
      "execution_count": 5,
      "outputs": [
        {
          "output_type": "execute_result",
          "data": {
            "text/plain": [
              "             index          Age       Gender  Air Pollution  Alcohol use  \\\n",
              "count  1000.000000  1000.000000  1000.000000      1000.0000  1000.000000   \n",
              "mean    499.500000    37.174000     1.402000         3.8400     4.563000   \n",
              "std     288.819436    12.005493     0.490547         2.0304     2.620477   \n",
              "min       0.000000    14.000000     1.000000         1.0000     1.000000   \n",
              "25%     249.750000    27.750000     1.000000         2.0000     2.000000   \n",
              "50%     499.500000    36.000000     1.000000         3.0000     5.000000   \n",
              "75%     749.250000    45.000000     2.000000         6.0000     7.000000   \n",
              "max     999.000000    73.000000     2.000000         8.0000     8.000000   \n",
              "\n",
              "       Dust Allergy  OccuPational Hazards  Genetic Risk  chronic Lung Disease  \\\n",
              "count   1000.000000           1000.000000   1000.000000           1000.000000   \n",
              "mean       5.165000              4.840000      4.580000              4.380000   \n",
              "std        1.980833              2.107805      2.126999              1.848518   \n",
              "min        1.000000              1.000000      1.000000              1.000000   \n",
              "25%        4.000000              3.000000      2.000000              3.000000   \n",
              "50%        6.000000              5.000000      5.000000              4.000000   \n",
              "75%        7.000000              7.000000      7.000000              6.000000   \n",
              "max        8.000000              8.000000      7.000000              7.000000   \n",
              "\n",
              "       Balanced Diet  ...  Coughing of Blood      Fatigue  Weight Loss  \\\n",
              "count    1000.000000  ...        1000.000000  1000.000000  1000.000000   \n",
              "mean        4.491000  ...           4.859000     3.856000     3.855000   \n",
              "std         2.135528  ...           2.427965     2.244616     2.206546   \n",
              "min         1.000000  ...           1.000000     1.000000     1.000000   \n",
              "25%         2.000000  ...           3.000000     2.000000     2.000000   \n",
              "50%         4.000000  ...           4.000000     3.000000     3.000000   \n",
              "75%         7.000000  ...           7.000000     5.000000     6.000000   \n",
              "max         7.000000  ...           9.000000     9.000000     8.000000   \n",
              "\n",
              "       Shortness of Breath     Wheezing  Swallowing Difficulty  \\\n",
              "count          1000.000000  1000.000000            1000.000000   \n",
              "mean              4.240000     3.777000               3.746000   \n",
              "std               2.285087     2.041921               2.270383   \n",
              "min               1.000000     1.000000               1.000000   \n",
              "25%               2.000000     2.000000               2.000000   \n",
              "50%               4.000000     4.000000               4.000000   \n",
              "75%               6.000000     5.000000               5.000000   \n",
              "max               9.000000     8.000000               8.000000   \n",
              "\n",
              "       Clubbing of Finger Nails  Frequent Cold    Dry Cough      Snoring  \n",
              "count               1000.000000    1000.000000  1000.000000  1000.000000  \n",
              "mean                   3.923000       3.536000     3.853000     2.926000  \n",
              "std                    2.388048       1.832502     2.039007     1.474686  \n",
              "min                    1.000000       1.000000     1.000000     1.000000  \n",
              "25%                    2.000000       2.000000     2.000000     2.000000  \n",
              "50%                    4.000000       3.000000     4.000000     3.000000  \n",
              "75%                    5.000000       5.000000     6.000000     4.000000  \n",
              "max                    9.000000       7.000000     7.000000     7.000000  \n",
              "\n",
              "[8 rows x 24 columns]"
            ],
            "text/html": [
              "\n",
              "  <div id=\"df-ef305894-2ee2-4940-933b-c879f1f534f3\" class=\"colab-df-container\">\n",
              "    <div>\n",
              "<style scoped>\n",
              "    .dataframe tbody tr th:only-of-type {\n",
              "        vertical-align: middle;\n",
              "    }\n",
              "\n",
              "    .dataframe tbody tr th {\n",
              "        vertical-align: top;\n",
              "    }\n",
              "\n",
              "    .dataframe thead th {\n",
              "        text-align: right;\n",
              "    }\n",
              "</style>\n",
              "<table border=\"1\" class=\"dataframe\">\n",
              "  <thead>\n",
              "    <tr style=\"text-align: right;\">\n",
              "      <th></th>\n",
              "      <th>index</th>\n",
              "      <th>Age</th>\n",
              "      <th>Gender</th>\n",
              "      <th>Air Pollution</th>\n",
              "      <th>Alcohol use</th>\n",
              "      <th>Dust Allergy</th>\n",
              "      <th>OccuPational Hazards</th>\n",
              "      <th>Genetic Risk</th>\n",
              "      <th>chronic Lung Disease</th>\n",
              "      <th>Balanced Diet</th>\n",
              "      <th>...</th>\n",
              "      <th>Coughing of Blood</th>\n",
              "      <th>Fatigue</th>\n",
              "      <th>Weight Loss</th>\n",
              "      <th>Shortness of Breath</th>\n",
              "      <th>Wheezing</th>\n",
              "      <th>Swallowing Difficulty</th>\n",
              "      <th>Clubbing of Finger Nails</th>\n",
              "      <th>Frequent Cold</th>\n",
              "      <th>Dry Cough</th>\n",
              "      <th>Snoring</th>\n",
              "    </tr>\n",
              "  </thead>\n",
              "  <tbody>\n",
              "    <tr>\n",
              "      <th>count</th>\n",
              "      <td>1000.000000</td>\n",
              "      <td>1000.000000</td>\n",
              "      <td>1000.000000</td>\n",
              "      <td>1000.0000</td>\n",
              "      <td>1000.000000</td>\n",
              "      <td>1000.000000</td>\n",
              "      <td>1000.000000</td>\n",
              "      <td>1000.000000</td>\n",
              "      <td>1000.000000</td>\n",
              "      <td>1000.000000</td>\n",
              "      <td>...</td>\n",
              "      <td>1000.000000</td>\n",
              "      <td>1000.000000</td>\n",
              "      <td>1000.000000</td>\n",
              "      <td>1000.000000</td>\n",
              "      <td>1000.000000</td>\n",
              "      <td>1000.000000</td>\n",
              "      <td>1000.000000</td>\n",
              "      <td>1000.000000</td>\n",
              "      <td>1000.000000</td>\n",
              "      <td>1000.000000</td>\n",
              "    </tr>\n",
              "    <tr>\n",
              "      <th>mean</th>\n",
              "      <td>499.500000</td>\n",
              "      <td>37.174000</td>\n",
              "      <td>1.402000</td>\n",
              "      <td>3.8400</td>\n",
              "      <td>4.563000</td>\n",
              "      <td>5.165000</td>\n",
              "      <td>4.840000</td>\n",
              "      <td>4.580000</td>\n",
              "      <td>4.380000</td>\n",
              "      <td>4.491000</td>\n",
              "      <td>...</td>\n",
              "      <td>4.859000</td>\n",
              "      <td>3.856000</td>\n",
              "      <td>3.855000</td>\n",
              "      <td>4.240000</td>\n",
              "      <td>3.777000</td>\n",
              "      <td>3.746000</td>\n",
              "      <td>3.923000</td>\n",
              "      <td>3.536000</td>\n",
              "      <td>3.853000</td>\n",
              "      <td>2.926000</td>\n",
              "    </tr>\n",
              "    <tr>\n",
              "      <th>std</th>\n",
              "      <td>288.819436</td>\n",
              "      <td>12.005493</td>\n",
              "      <td>0.490547</td>\n",
              "      <td>2.0304</td>\n",
              "      <td>2.620477</td>\n",
              "      <td>1.980833</td>\n",
              "      <td>2.107805</td>\n",
              "      <td>2.126999</td>\n",
              "      <td>1.848518</td>\n",
              "      <td>2.135528</td>\n",
              "      <td>...</td>\n",
              "      <td>2.427965</td>\n",
              "      <td>2.244616</td>\n",
              "      <td>2.206546</td>\n",
              "      <td>2.285087</td>\n",
              "      <td>2.041921</td>\n",
              "      <td>2.270383</td>\n",
              "      <td>2.388048</td>\n",
              "      <td>1.832502</td>\n",
              "      <td>2.039007</td>\n",
              "      <td>1.474686</td>\n",
              "    </tr>\n",
              "    <tr>\n",
              "      <th>min</th>\n",
              "      <td>0.000000</td>\n",
              "      <td>14.000000</td>\n",
              "      <td>1.000000</td>\n",
              "      <td>1.0000</td>\n",
              "      <td>1.000000</td>\n",
              "      <td>1.000000</td>\n",
              "      <td>1.000000</td>\n",
              "      <td>1.000000</td>\n",
              "      <td>1.000000</td>\n",
              "      <td>1.000000</td>\n",
              "      <td>...</td>\n",
              "      <td>1.000000</td>\n",
              "      <td>1.000000</td>\n",
              "      <td>1.000000</td>\n",
              "      <td>1.000000</td>\n",
              "      <td>1.000000</td>\n",
              "      <td>1.000000</td>\n",
              "      <td>1.000000</td>\n",
              "      <td>1.000000</td>\n",
              "      <td>1.000000</td>\n",
              "      <td>1.000000</td>\n",
              "    </tr>\n",
              "    <tr>\n",
              "      <th>25%</th>\n",
              "      <td>249.750000</td>\n",
              "      <td>27.750000</td>\n",
              "      <td>1.000000</td>\n",
              "      <td>2.0000</td>\n",
              "      <td>2.000000</td>\n",
              "      <td>4.000000</td>\n",
              "      <td>3.000000</td>\n",
              "      <td>2.000000</td>\n",
              "      <td>3.000000</td>\n",
              "      <td>2.000000</td>\n",
              "      <td>...</td>\n",
              "      <td>3.000000</td>\n",
              "      <td>2.000000</td>\n",
              "      <td>2.000000</td>\n",
              "      <td>2.000000</td>\n",
              "      <td>2.000000</td>\n",
              "      <td>2.000000</td>\n",
              "      <td>2.000000</td>\n",
              "      <td>2.000000</td>\n",
              "      <td>2.000000</td>\n",
              "      <td>2.000000</td>\n",
              "    </tr>\n",
              "    <tr>\n",
              "      <th>50%</th>\n",
              "      <td>499.500000</td>\n",
              "      <td>36.000000</td>\n",
              "      <td>1.000000</td>\n",
              "      <td>3.0000</td>\n",
              "      <td>5.000000</td>\n",
              "      <td>6.000000</td>\n",
              "      <td>5.000000</td>\n",
              "      <td>5.000000</td>\n",
              "      <td>4.000000</td>\n",
              "      <td>4.000000</td>\n",
              "      <td>...</td>\n",
              "      <td>4.000000</td>\n",
              "      <td>3.000000</td>\n",
              "      <td>3.000000</td>\n",
              "      <td>4.000000</td>\n",
              "      <td>4.000000</td>\n",
              "      <td>4.000000</td>\n",
              "      <td>4.000000</td>\n",
              "      <td>3.000000</td>\n",
              "      <td>4.000000</td>\n",
              "      <td>3.000000</td>\n",
              "    </tr>\n",
              "    <tr>\n",
              "      <th>75%</th>\n",
              "      <td>749.250000</td>\n",
              "      <td>45.000000</td>\n",
              "      <td>2.000000</td>\n",
              "      <td>6.0000</td>\n",
              "      <td>7.000000</td>\n",
              "      <td>7.000000</td>\n",
              "      <td>7.000000</td>\n",
              "      <td>7.000000</td>\n",
              "      <td>6.000000</td>\n",
              "      <td>7.000000</td>\n",
              "      <td>...</td>\n",
              "      <td>7.000000</td>\n",
              "      <td>5.000000</td>\n",
              "      <td>6.000000</td>\n",
              "      <td>6.000000</td>\n",
              "      <td>5.000000</td>\n",
              "      <td>5.000000</td>\n",
              "      <td>5.000000</td>\n",
              "      <td>5.000000</td>\n",
              "      <td>6.000000</td>\n",
              "      <td>4.000000</td>\n",
              "    </tr>\n",
              "    <tr>\n",
              "      <th>max</th>\n",
              "      <td>999.000000</td>\n",
              "      <td>73.000000</td>\n",
              "      <td>2.000000</td>\n",
              "      <td>8.0000</td>\n",
              "      <td>8.000000</td>\n",
              "      <td>8.000000</td>\n",
              "      <td>8.000000</td>\n",
              "      <td>7.000000</td>\n",
              "      <td>7.000000</td>\n",
              "      <td>7.000000</td>\n",
              "      <td>...</td>\n",
              "      <td>9.000000</td>\n",
              "      <td>9.000000</td>\n",
              "      <td>8.000000</td>\n",
              "      <td>9.000000</td>\n",
              "      <td>8.000000</td>\n",
              "      <td>8.000000</td>\n",
              "      <td>9.000000</td>\n",
              "      <td>7.000000</td>\n",
              "      <td>7.000000</td>\n",
              "      <td>7.000000</td>\n",
              "    </tr>\n",
              "  </tbody>\n",
              "</table>\n",
              "<p>8 rows × 24 columns</p>\n",
              "</div>\n",
              "    <div class=\"colab-df-buttons\">\n",
              "\n",
              "  <div class=\"colab-df-container\">\n",
              "    <button class=\"colab-df-convert\" onclick=\"convertToInteractive('df-ef305894-2ee2-4940-933b-c879f1f534f3')\"\n",
              "            title=\"Convert this dataframe to an interactive table.\"\n",
              "            style=\"display:none;\">\n",
              "\n",
              "  <svg xmlns=\"http://www.w3.org/2000/svg\" height=\"24px\" viewBox=\"0 -960 960 960\">\n",
              "    <path d=\"M120-120v-720h720v720H120Zm60-500h600v-160H180v160Zm220 220h160v-160H400v160Zm0 220h160v-160H400v160ZM180-400h160v-160H180v160Zm440 0h160v-160H620v160ZM180-180h160v-160H180v160Zm440 0h160v-160H620v160Z\"/>\n",
              "  </svg>\n",
              "    </button>\n",
              "\n",
              "  <style>\n",
              "    .colab-df-container {\n",
              "      display:flex;\n",
              "      gap: 12px;\n",
              "    }\n",
              "\n",
              "    .colab-df-convert {\n",
              "      background-color: #E8F0FE;\n",
              "      border: none;\n",
              "      border-radius: 50%;\n",
              "      cursor: pointer;\n",
              "      display: none;\n",
              "      fill: #1967D2;\n",
              "      height: 32px;\n",
              "      padding: 0 0 0 0;\n",
              "      width: 32px;\n",
              "    }\n",
              "\n",
              "    .colab-df-convert:hover {\n",
              "      background-color: #E2EBFA;\n",
              "      box-shadow: 0px 1px 2px rgba(60, 64, 67, 0.3), 0px 1px 3px 1px rgba(60, 64, 67, 0.15);\n",
              "      fill: #174EA6;\n",
              "    }\n",
              "\n",
              "    .colab-df-buttons div {\n",
              "      margin-bottom: 4px;\n",
              "    }\n",
              "\n",
              "    [theme=dark] .colab-df-convert {\n",
              "      background-color: #3B4455;\n",
              "      fill: #D2E3FC;\n",
              "    }\n",
              "\n",
              "    [theme=dark] .colab-df-convert:hover {\n",
              "      background-color: #434B5C;\n",
              "      box-shadow: 0px 1px 3px 1px rgba(0, 0, 0, 0.15);\n",
              "      filter: drop-shadow(0px 1px 2px rgba(0, 0, 0, 0.3));\n",
              "      fill: #FFFFFF;\n",
              "    }\n",
              "  </style>\n",
              "\n",
              "    <script>\n",
              "      const buttonEl =\n",
              "        document.querySelector('#df-ef305894-2ee2-4940-933b-c879f1f534f3 button.colab-df-convert');\n",
              "      buttonEl.style.display =\n",
              "        google.colab.kernel.accessAllowed ? 'block' : 'none';\n",
              "\n",
              "      async function convertToInteractive(key) {\n",
              "        const element = document.querySelector('#df-ef305894-2ee2-4940-933b-c879f1f534f3');\n",
              "        const dataTable =\n",
              "          await google.colab.kernel.invokeFunction('convertToInteractive',\n",
              "                                                    [key], {});\n",
              "        if (!dataTable) return;\n",
              "\n",
              "        const docLinkHtml = 'Like what you see? Visit the ' +\n",
              "          '<a target=\"_blank\" href=https://colab.research.google.com/notebooks/data_table.ipynb>data table notebook</a>'\n",
              "          + ' to learn more about interactive tables.';\n",
              "        element.innerHTML = '';\n",
              "        dataTable['output_type'] = 'display_data';\n",
              "        await google.colab.output.renderOutput(dataTable, element);\n",
              "        const docLink = document.createElement('div');\n",
              "        docLink.innerHTML = docLinkHtml;\n",
              "        element.appendChild(docLink);\n",
              "      }\n",
              "    </script>\n",
              "  </div>\n",
              "\n",
              "\n",
              "<div id=\"df-e7749bce-8053-4a82-af92-b6f2bd87fba2\">\n",
              "  <button class=\"colab-df-quickchart\" onclick=\"quickchart('df-e7749bce-8053-4a82-af92-b6f2bd87fba2')\"\n",
              "            title=\"Suggest charts\"\n",
              "            style=\"display:none;\">\n",
              "\n",
              "<svg xmlns=\"http://www.w3.org/2000/svg\" height=\"24px\"viewBox=\"0 0 24 24\"\n",
              "     width=\"24px\">\n",
              "    <g>\n",
              "        <path d=\"M19 3H5c-1.1 0-2 .9-2 2v14c0 1.1.9 2 2 2h14c1.1 0 2-.9 2-2V5c0-1.1-.9-2-2-2zM9 17H7v-7h2v7zm4 0h-2V7h2v10zm4 0h-2v-4h2v4z\"/>\n",
              "    </g>\n",
              "</svg>\n",
              "  </button>\n",
              "\n",
              "<style>\n",
              "  .colab-df-quickchart {\n",
              "      --bg-color: #E8F0FE;\n",
              "      --fill-color: #1967D2;\n",
              "      --hover-bg-color: #E2EBFA;\n",
              "      --hover-fill-color: #174EA6;\n",
              "      --disabled-fill-color: #AAA;\n",
              "      --disabled-bg-color: #DDD;\n",
              "  }\n",
              "\n",
              "  [theme=dark] .colab-df-quickchart {\n",
              "      --bg-color: #3B4455;\n",
              "      --fill-color: #D2E3FC;\n",
              "      --hover-bg-color: #434B5C;\n",
              "      --hover-fill-color: #FFFFFF;\n",
              "      --disabled-bg-color: #3B4455;\n",
              "      --disabled-fill-color: #666;\n",
              "  }\n",
              "\n",
              "  .colab-df-quickchart {\n",
              "    background-color: var(--bg-color);\n",
              "    border: none;\n",
              "    border-radius: 50%;\n",
              "    cursor: pointer;\n",
              "    display: none;\n",
              "    fill: var(--fill-color);\n",
              "    height: 32px;\n",
              "    padding: 0;\n",
              "    width: 32px;\n",
              "  }\n",
              "\n",
              "  .colab-df-quickchart:hover {\n",
              "    background-color: var(--hover-bg-color);\n",
              "    box-shadow: 0 1px 2px rgba(60, 64, 67, 0.3), 0 1px 3px 1px rgba(60, 64, 67, 0.15);\n",
              "    fill: var(--button-hover-fill-color);\n",
              "  }\n",
              "\n",
              "  .colab-df-quickchart-complete:disabled,\n",
              "  .colab-df-quickchart-complete:disabled:hover {\n",
              "    background-color: var(--disabled-bg-color);\n",
              "    fill: var(--disabled-fill-color);\n",
              "    box-shadow: none;\n",
              "  }\n",
              "\n",
              "  .colab-df-spinner {\n",
              "    border: 2px solid var(--fill-color);\n",
              "    border-color: transparent;\n",
              "    border-bottom-color: var(--fill-color);\n",
              "    animation:\n",
              "      spin 1s steps(1) infinite;\n",
              "  }\n",
              "\n",
              "  @keyframes spin {\n",
              "    0% {\n",
              "      border-color: transparent;\n",
              "      border-bottom-color: var(--fill-color);\n",
              "      border-left-color: var(--fill-color);\n",
              "    }\n",
              "    20% {\n",
              "      border-color: transparent;\n",
              "      border-left-color: var(--fill-color);\n",
              "      border-top-color: var(--fill-color);\n",
              "    }\n",
              "    30% {\n",
              "      border-color: transparent;\n",
              "      border-left-color: var(--fill-color);\n",
              "      border-top-color: var(--fill-color);\n",
              "      border-right-color: var(--fill-color);\n",
              "    }\n",
              "    40% {\n",
              "      border-color: transparent;\n",
              "      border-right-color: var(--fill-color);\n",
              "      border-top-color: var(--fill-color);\n",
              "    }\n",
              "    60% {\n",
              "      border-color: transparent;\n",
              "      border-right-color: var(--fill-color);\n",
              "    }\n",
              "    80% {\n",
              "      border-color: transparent;\n",
              "      border-right-color: var(--fill-color);\n",
              "      border-bottom-color: var(--fill-color);\n",
              "    }\n",
              "    90% {\n",
              "      border-color: transparent;\n",
              "      border-bottom-color: var(--fill-color);\n",
              "    }\n",
              "  }\n",
              "</style>\n",
              "\n",
              "  <script>\n",
              "    async function quickchart(key) {\n",
              "      const quickchartButtonEl =\n",
              "        document.querySelector('#' + key + ' button');\n",
              "      quickchartButtonEl.disabled = true;  // To prevent multiple clicks.\n",
              "      quickchartButtonEl.classList.add('colab-df-spinner');\n",
              "      try {\n",
              "        const charts = await google.colab.kernel.invokeFunction(\n",
              "            'suggestCharts', [key], {});\n",
              "      } catch (error) {\n",
              "        console.error('Error during call to suggestCharts:', error);\n",
              "      }\n",
              "      quickchartButtonEl.classList.remove('colab-df-spinner');\n",
              "      quickchartButtonEl.classList.add('colab-df-quickchart-complete');\n",
              "    }\n",
              "    (() => {\n",
              "      let quickchartButtonEl =\n",
              "        document.querySelector('#df-e7749bce-8053-4a82-af92-b6f2bd87fba2 button');\n",
              "      quickchartButtonEl.style.display =\n",
              "        google.colab.kernel.accessAllowed ? 'block' : 'none';\n",
              "    })();\n",
              "  </script>\n",
              "</div>\n",
              "\n",
              "    </div>\n",
              "  </div>\n"
            ],
            "application/vnd.google.colaboratory.intrinsic+json": {
              "type": "dataframe"
            }
          },
          "metadata": {},
          "execution_count": 5
        }
      ]
    },
    {
      "cell_type": "markdown",
      "source": [
        "You can see that the Categorical features have different scale.\n",
        "For example:\n",
        "Air Polution (1 min - 8 max) while\n",
        "Genetic Risk (1 min - 7 max) while\n",
        "Fatigue (1 min - 9 max) and so on."
      ],
      "metadata": {
        "id": "OaKaeizpVtS_"
      }
    },
    {
      "cell_type": "code",
      "source": [
        "patientsDf[\"Level\"].value_counts()"
      ],
      "metadata": {
        "colab": {
          "base_uri": "https://localhost:8080/",
          "height": 0
        },
        "id": "ug3MlvNlW5ND",
        "outputId": "4a416d44-0371-46a6-ec9f-2bd6eb9bd0a6"
      },
      "execution_count": 6,
      "outputs": [
        {
          "output_type": "execute_result",
          "data": {
            "text/plain": [
              "Level\n",
              "High      365\n",
              "Medium    332\n",
              "Low       303\n",
              "Name: count, dtype: int64"
            ],
            "text/html": [
              "<div>\n",
              "<style scoped>\n",
              "    .dataframe tbody tr th:only-of-type {\n",
              "        vertical-align: middle;\n",
              "    }\n",
              "\n",
              "    .dataframe tbody tr th {\n",
              "        vertical-align: top;\n",
              "    }\n",
              "\n",
              "    .dataframe thead th {\n",
              "        text-align: right;\n",
              "    }\n",
              "</style>\n",
              "<table border=\"1\" class=\"dataframe\">\n",
              "  <thead>\n",
              "    <tr style=\"text-align: right;\">\n",
              "      <th></th>\n",
              "      <th>count</th>\n",
              "    </tr>\n",
              "    <tr>\n",
              "      <th>Level</th>\n",
              "      <th></th>\n",
              "    </tr>\n",
              "  </thead>\n",
              "  <tbody>\n",
              "    <tr>\n",
              "      <th>High</th>\n",
              "      <td>365</td>\n",
              "    </tr>\n",
              "    <tr>\n",
              "      <th>Medium</th>\n",
              "      <td>332</td>\n",
              "    </tr>\n",
              "    <tr>\n",
              "      <th>Low</th>\n",
              "      <td>303</td>\n",
              "    </tr>\n",
              "  </tbody>\n",
              "</table>\n",
              "</div><br><label><b>dtype:</b> int64</label>"
            ]
          },
          "metadata": {},
          "execution_count": 6
        }
      ]
    },
    {
      "cell_type": "markdown",
      "source": [
        "# Data Preparation"
      ],
      "metadata": {
        "id": "Cwzq5PyQANyv"
      }
    },
    {
      "cell_type": "code",
      "source": [
        "from sklearn.preprocessing import LabelEncoder, StandardScaler\n",
        "from sklearn.pipeline import Pipeline\n",
        "from sklearn.model_selection import train_test_split\n",
        "\n",
        "#le = LabelEncoder()\n",
        "#patientsDf['Level'] = le.fit_transform(patientsDf['Level'])\n",
        "y = patientsDf['Level']\n",
        "X = patientsDf.drop(['Level','index', 'Patient Id'], axis=1, errors='ignore')#ignore to skip non-existent columns in case rerun the code multiple times\n",
        "\n",
        "num_pipeline = Pipeline([\n",
        "        ('std_scaler', StandardScaler()),\n",
        "    ])\n",
        "\n",
        "X_scaled = num_pipeline.fit_transform(X)\n",
        "\n",
        "#stratified train-test split\n",
        "X_train, X_test, y_train, y_test = train_test_split(X_scaled, y, test_size=0.3, stratify=y, random_state=42)\n",
        "y_train_high = (y_train == 'High')\n",
        "y_test_high = (y_test == 'High')"
      ],
      "metadata": {
        "id": "XQ-_3idc2yrz"
      },
      "execution_count": 7,
      "outputs": []
    },
    {
      "cell_type": "markdown",
      "source": [
        "# k-Nearest Neighbors classifier"
      ],
      "metadata": {
        "id": "xEduwa6im1gu"
      }
    },
    {
      "cell_type": "markdown",
      "source": [
        "Utilize RandomizedSearchCV with cross-validation to find best hyperparameters to use"
      ],
      "metadata": {
        "id": "dHekNM68nFYX"
      }
    },
    {
      "cell_type": "code",
      "source": [
        "from sklearn.model_selection import RandomizedSearchCV\n",
        "from sklearn.neighbors import KNeighborsClassifier\n",
        "\n",
        "param_grid_knn = {\n",
        "    'n_neighbors': [3, 5, 7, 9],\n",
        "    'weights': ['uniform', 'distance'],\n",
        "    'p': [1, 2]  # p=1 (Manhattan), p=2 (Euclidean)\n",
        "}\n",
        "\n",
        "randSearch = RandomizedSearchCV(KNeighborsClassifier(), param_distributions=param_grid_knn, cv=5, n_iter=10, random_state=42);\n",
        "randSearch.fit(X_train, y_train_high)\n",
        "\n",
        "print(f'best parameters: {randSearch.best_estimator_}')"
      ],
      "metadata": {
        "colab": {
          "base_uri": "https://localhost:8080/"
        },
        "id": "zNFijUsUoXfj",
        "outputId": "7199ea25-970a-47b0-e022-f8676f3cb3e3"
      },
      "execution_count": 20,
      "outputs": [
        {
          "output_type": "stream",
          "name": "stdout",
          "text": [
            "best parameters: KNeighborsClassifier(n_neighbors=3, p=1)\n"
          ]
        }
      ]
    },
    {
      "cell_type": "markdown",
      "source": [
        "display metrics"
      ],
      "metadata": {
        "id": "D5kj4cTnrPoS"
      }
    },
    {
      "cell_type": "code",
      "source": [
        "from sklearn.metrics import accuracy_score, classification_report, roc_auc_score\n",
        "\n",
        "y_pred_KNeighbors = randSearch.predict(X_test)\n",
        "\n",
        "accuracy = accuracy_score(y_test_high, y_pred_KNeighbors)\n",
        "\n",
        "report = classification_report(y_test_high, y_pred_KNeighbors, target_names=['High Level', 'Other Levels'])\n",
        "roc_auc = roc_auc_score(y_test_high, randSearch.predict_proba(X_test)[:, 1], multi_class='ovr')\n",
        "\n",
        "# Display results\n",
        "print(f'KNeighbors Accuracy: {accuracy:.2f}')\n",
        "print(f'KNeighbors ROC-AUC: {roc_auc:.2f}')\n",
        "print(f'')\n",
        "print(f'Classification Report for KNeighbors:\\n{report}')"
      ],
      "metadata": {
        "colab": {
          "base_uri": "https://localhost:8080/"
        },
        "id": "eHarS8gkrP2z",
        "outputId": "5cf14b89-7fbe-41ff-baf0-caec8b6ae4ed"
      },
      "execution_count": 9,
      "outputs": [
        {
          "output_type": "stream",
          "name": "stdout",
          "text": [
            "KNeighbors Accuracy: 1.00\n",
            "KNeighbors ROC-AUC: 1.00\n",
            "\n",
            "Classification Report for KNeighbors:\n",
            "              precision    recall  f1-score   support\n",
            "\n",
            "  High Level       1.00      1.00      1.00       191\n",
            "Other Levels       1.00      1.00      1.00       109\n",
            "\n",
            "    accuracy                           1.00       300\n",
            "   macro avg       1.00      1.00      1.00       300\n",
            "weighted avg       1.00      1.00      1.00       300\n",
            "\n"
          ]
        }
      ]
    },
    {
      "cell_type": "markdown",
      "source": [
        "Visualize metrics"
      ],
      "metadata": {
        "id": "i4AmQOZNyzNp"
      }
    },
    {
      "cell_type": "code",
      "source": [
        "from sklearn.metrics import confusion_matrix, ConfusionMatrixDisplay\n",
        "import matplotlib.pyplot as plt\n",
        "\n",
        "# Display confusion matrix\n",
        "cm = confusion_matrix(y_test_high, y_pred_KNeighbors)\n",
        "disp = ConfusionMatrixDisplay(confusion_matrix=cm, display_labels=['High Level', 'Other Levels'])\n",
        "disp.plot(cmap='Blues')\n",
        "plt.title(f'Confusion Matrix for KNeighbors')\n",
        "plt.show()"
      ],
      "metadata": {
        "colab": {
          "base_uri": "https://localhost:8080/",
          "height": 472
        },
        "id": "GWR06Hyyy2eY",
        "outputId": "f5e90273-0963-4864-86d7-5d8b23886b0a"
      },
      "execution_count": 10,
      "outputs": [
        {
          "output_type": "display_data",
          "data": {
            "text/plain": [
              "<Figure size 640x480 with 2 Axes>"
            ],
            "image/png": "[encoded data removed]"
          },
          "metadata": {}
        }
      ]
    },
    {
      "cell_type": "markdown",
      "source": [
        "# Logistic Regression Classifier"
      ],
      "metadata": {
        "id": "RZ9qPfGm4RZc"
      }
    },
    {
      "cell_type": "markdown",
      "source": [
        "Utilize RandomizedSearchCV with cross-validation to find best hyperparameters to use"
      ],
      "metadata": {
        "id": "vuEHM4Cp4ajl"
      }
    },
    {
      "cell_type": "code",
      "source": [
        "from sklearn.model_selection import RandomizedSearchCV\n",
        "from sklearn.linear_model import LogisticRegression\n",
        "\n",
        "param_grid_lr = {\n",
        "    'C': [0.01, 0.1, 1, 10, 100],\n",
        "    'solver': ['liblinear', 'saga'],\n",
        "    'max_iter': [1000, 2000, 3000]\n",
        "}\n",
        "\n",
        "randSearchLogistic = RandomizedSearchCV(LogisticRegression(max_iter=1000, random_state=42), param_distributions=param_grid_lr, cv=5, n_iter=10, random_state=42)\n",
        "randSearchLogistic.fit(X_train, y_train_high)\n",
        "\n",
        "print(f'best parameters: {randSearchLogistic.best_estimator_}')"
      ],
      "metadata": {
        "colab": {
          "base_uri": "https://localhost:8080/"
        },
        "id": "n4WckkxA4cGG",
        "outputId": "cd31417a-427f-40cb-e7f8-465f2288e3bc"
      },
      "execution_count": 21,
      "outputs": [
        {
          "output_type": "stream",
          "name": "stdout",
          "text": [
            "best parameters: LogisticRegression(C=100, max_iter=2000, random_state=42, solver='saga')\n"
          ]
        }
      ]
    },
    {
      "cell_type": "markdown",
      "source": [
        "display metrics"
      ],
      "metadata": {
        "id": "O2dJWGQZBwzM"
      }
    },
    {
      "cell_type": "code",
      "source": [
        "from sklearn.metrics import accuracy_score, classification_report, roc_auc_score\n",
        "\n",
        "y_pred_Logisitic = randSearchLogistic.predict(X_test)\n",
        "\n",
        "accuracy = accuracy_score(y_test_high, y_pred_Logisitic)\n",
        "\n",
        "report = classification_report(y_test_high, y_pred_Logisitic, target_names=['High Level', 'Other Levels'])\n",
        "roc_auc = roc_auc_score(y_test_high, randSearchLogistic.predict_proba(X_test)[:, 1], multi_class='ovr')\n",
        "\n",
        "#Display results\n",
        "print(f'LogisticRegression Accuracy: {accuracy:.2f}')\n",
        "print(f'LogisticRegression ROC-AUC: {roc_auc:.2f}')\n",
        "print(f'')\n",
        "print(f'Classification Report for LogisticRegression:\\n{report}')"
      ],
      "metadata": {
        "colab": {
          "base_uri": "https://localhost:8080/"
        },
        "id": "gVCsyq23B5Zz",
        "outputId": "c9d96bb3-5b2d-4f2f-8cef-97f6c847552f"
      },
      "execution_count": 12,
      "outputs": [
        {
          "output_type": "stream",
          "name": "stdout",
          "text": [
            "LogisticRegression Accuracy: 1.00\n",
            "LogisticRegression ROC-AUC: 1.00\n",
            "\n",
            "Classification Report for LogisticRegression:\n",
            "              precision    recall  f1-score   support\n",
            "\n",
            "  High Level       1.00      1.00      1.00       191\n",
            "Other Levels       1.00      1.00      1.00       109\n",
            "\n",
            "    accuracy                           1.00       300\n",
            "   macro avg       1.00      1.00      1.00       300\n",
            "weighted avg       1.00      1.00      1.00       300\n",
            "\n"
          ]
        }
      ]
    },
    {
      "cell_type": "markdown",
      "source": [
        "Visualize metrics"
      ],
      "metadata": {
        "id": "fD4t5fzlDoWG"
      }
    },
    {
      "cell_type": "code",
      "source": [
        "from sklearn.metrics import confusion_matrix, ConfusionMatrixDisplay\n",
        "import matplotlib.pyplot as plt\n",
        "\n",
        "#Display confusion matrix\n",
        "cm = confusion_matrix(y_test_high, y_pred_Logisitic)\n",
        "disp = ConfusionMatrixDisplay(confusion_matrix=cm, display_labels=['High Level', 'Other Levels'])\n",
        "disp.plot(cmap='Blues')\n",
        "plt.title(f'Confusion Matrix for Logisitic')\n",
        "plt.show()"
      ],
      "metadata": {
        "colab": {
          "base_uri": "https://localhost:8080/",
          "height": 472
        },
        "id": "AjridwSBDpMQ",
        "outputId": "1e075ce8-d845-4166-b0bb-69ab49f16210"
      },
      "execution_count": 13,
      "outputs": [
        {
          "output_type": "display_data",
          "data": {
            "text/plain": [
              "<Figure size 640x480 with 2 Axes>"
            ],
            "image/png": "[encoded data removed]"
          },
          "metadata": {}
        }
      ]
    },
    {
      "cell_type": "markdown",
      "source": [
        "# Naive Bayes classifier"
      ],
      "metadata": {
        "id": "u7TX3c1GFDN5"
      }
    },
    {
      "cell_type": "code",
      "source": [
        "from sklearn.naive_bayes import GaussianNB\n",
        "from sklearn.metrics import accuracy_score, classification_report, roc_auc_score\n",
        "\n",
        "bayes = GaussianNB()\n",
        "bayes.fit(X_train, y_train_high)\n",
        "\n",
        "y_pred_bayes = bayes.predict(X_test)\n",
        "\n",
        "accuracy = accuracy_score(y_test_high, y_pred_bayes)\n",
        "\n",
        "report = classification_report(y_test_high, y_pred_bayes, target_names=['High Level', 'Other Levels'])\n",
        "roc_auc = roc_auc_score(y_test_high, bayes.predict_proba(X_test)[:, 1], multi_class='ovr')\n",
        "\n",
        "#Display results\n",
        "print(f'naive_bayes Accuracy: {accuracy:.2f}')\n",
        "print(f'naive_bayes ROC-AUC: {roc_auc:.2f}')\n",
        "print(f'')\n",
        "print(f'Classification Report for naive_bayes:\\n{report}')"
      ],
      "metadata": {
        "colab": {
          "base_uri": "https://localhost:8080/"
        },
        "id": "6V5Q2BE5FGMH",
        "outputId": "5179a9ba-6d68-4bd7-aa8a-13e95ec04e3e"
      },
      "execution_count": 14,
      "outputs": [
        {
          "output_type": "stream",
          "name": "stdout",
          "text": [
            "naive_bayes Accuracy: 0.91\n",
            "naive_bayes ROC-AUC: 1.00\n",
            "\n",
            "Classification Report for naive_bayes:\n",
            "              precision    recall  f1-score   support\n",
            "\n",
            "  High Level       0.99      0.87      0.92       191\n",
            "Other Levels       0.81      0.98      0.89       109\n",
            "\n",
            "    accuracy                           0.91       300\n",
            "   macro avg       0.90      0.93      0.91       300\n",
            "weighted avg       0.92      0.91      0.91       300\n",
            "\n"
          ]
        }
      ]
    },
    {
      "cell_type": "markdown",
      "source": [
        "Visualize metrics"
      ],
      "metadata": {
        "id": "RpuKO9DtJHsw"
      }
    },
    {
      "cell_type": "code",
      "source": [
        "from sklearn.metrics import confusion_matrix, ConfusionMatrixDisplay\n",
        "import matplotlib.pyplot as plt\n",
        "\n",
        "#Display confusion matrix\n",
        "cm = confusion_matrix(y_test_high, y_pred_bayes)\n",
        "disp = ConfusionMatrixDisplay(confusion_matrix=cm, display_labels=['High Level', 'Other Levels'])\n",
        "disp.plot(cmap='Blues')\n",
        "plt.title(f'Confusion Matrix for naive_bayes')\n",
        "plt.show()"
      ],
      "metadata": {
        "colab": {
          "base_uri": "https://localhost:8080/",
          "height": 472
        },
        "id": "ov6ta9IUJJTE",
        "outputId": "89dc2deb-f105-46e2-d0dd-a1f394190d32"
      },
      "execution_count": 15,
      "outputs": [
        {
          "output_type": "display_data",
          "data": {
            "text/plain": [
              "<Figure size 640x480 with 2 Axes>"
            ],
            "image/png": "[encoded data removed]"
          },
          "metadata": {}
        }
      ]
    },
    {
      "cell_type": "markdown",
      "source": [
        "# Stochastic Gradient Descent (SGD)"
      ],
      "metadata": {
        "id": "8C15t_TEI4MY"
      }
    },
    {
      "cell_type": "markdown",
      "source": [
        "use Grid search"
      ],
      "metadata": {
        "id": "8H1eaWAzJoc5"
      }
    },
    {
      "cell_type": "code",
      "source": [
        "from sklearn.model_selection import GridSearchCV\n",
        "from sklearn.linear_model import SGDClassifier\n",
        "\n",
        "param_grid_sgd = {\n",
        "    'max_iter': [1000, 2000, 3000],\n",
        "    'loss': ['log_loss', 'modified_huber']\n",
        "}\n",
        "\n",
        "gridSearchSGD = GridSearchCV(SGDClassifier(max_iter=1000, random_state=42, loss='log_loss'),\n",
        "                             param_grid=param_grid_sgd,\n",
        "                             cv=5)\n",
        "gridSearchSGD.fit(X_train, y_train_high)\n",
        "\n",
        "print(f'best parameters: {gridSearchSGD.best_estimator_}')"
      ],
      "metadata": {
        "colab": {
          "base_uri": "https://localhost:8080/"
        },
        "id": "YTokvX2iJxut",
        "outputId": "9e692b42-7e01-4536-fc69-35d8b401675e"
      },
      "execution_count": 22,
      "outputs": [
        {
          "output_type": "stream",
          "name": "stdout",
          "text": [
            "best parameters: SGDClassifier(loss='log_loss', random_state=42)\n"
          ]
        }
      ]
    },
    {
      "cell_type": "markdown",
      "source": [
        "metrics display"
      ],
      "metadata": {
        "id": "VdB1KxrKLRMa"
      }
    },
    {
      "cell_type": "code",
      "source": [
        "from sklearn.metrics import accuracy_score, classification_report, roc_auc_score\n",
        "\n",
        "y_pred_SGD = gridSearchSGD.predict(X_test)\n",
        "\n",
        "accuracy = accuracy_score(y_test_high, y_pred_SGD)\n",
        "\n",
        "report = classification_report(y_test_high, y_pred_SGD, target_names=['High Level', 'Other Levels'])\n",
        "roc_auc = roc_auc_score(y_test_high, gridSearchSGD.predict_proba(X_test)[:, 1], multi_class='ovr')\n",
        "\n",
        "#Display results\n",
        "print(f'SGD Accuracy: {accuracy:.2f}')\n",
        "print(f'SGD ROC-AUC: {roc_auc:.2f}')\n",
        "print(f'')\n",
        "print(f'Classification Report for SGD:\\n{report}')"
      ],
      "metadata": {
        "colab": {
          "base_uri": "https://localhost:8080/"
        },
        "id": "p2cIrsryLZDN",
        "outputId": "b393aa7e-8f2e-4e8e-eb57-5ed0b86f581c"
      },
      "execution_count": 17,
      "outputs": [
        {
          "output_type": "stream",
          "name": "stdout",
          "text": [
            "SGD Accuracy: 1.00\n",
            "SGD ROC-AUC: 1.00\n",
            "\n",
            "Classification Report for SGD:\n",
            "              precision    recall  f1-score   support\n",
            "\n",
            "  High Level       0.99      1.00      1.00       191\n",
            "Other Levels       1.00      0.99      1.00       109\n",
            "\n",
            "    accuracy                           1.00       300\n",
            "   macro avg       1.00      1.00      1.00       300\n",
            "weighted avg       1.00      1.00      1.00       300\n",
            "\n"
          ]
        }
      ]
    },
    {
      "cell_type": "markdown",
      "source": [
        "visualize metrics"
      ],
      "metadata": {
        "id": "NUa1wkpPMbHc"
      }
    },
    {
      "cell_type": "code",
      "source": [
        "from sklearn.metrics import confusion_matrix, ConfusionMatrixDisplay\n",
        "import matplotlib.pyplot as plt\n",
        "\n",
        "#Display confusion matrix\n",
        "cm = confusion_matrix(y_test_high, y_pred_SGD)\n",
        "disp = ConfusionMatrixDisplay(confusion_matrix=cm, display_labels=['High Level', 'Other Levels'])\n",
        "disp.plot(cmap='Blues')\n",
        "plt.title(f'Confusion Matrix for SGD')\n",
        "plt.show()"
      ],
      "metadata": {
        "colab": {
          "base_uri": "https://localhost:8080/",
          "height": 472
        },
        "id": "91eHBhAyMctH",
        "outputId": "3f661f8c-f788-42df-d901-22bb15443492"
      },
      "execution_count": 18,
      "outputs": [
        {
          "output_type": "display_data",
          "data": {
            "text/plain": [
              "<Figure size 640x480 with 2 Axes>"
            ],
            "image/png": "[encoded data removed]"
          },
          "metadata": {}
        }
      ]
    },
    {
      "cell_type": "markdown",
      "source": [
        "# Classifiers ROC AUC comparison visualization"
      ],
      "metadata": {
        "id": "fNxGNBdLM6pW"
      }
    },
    {
      "cell_type": "code",
      "source": [
        "from sklearn.model_selection import cross_val_predict\n",
        "from sklearn.metrics import roc_curve\n",
        "\n",
        "SGD = SGDClassifier(loss='log_loss', random_state=42)\n",
        "y_probas_SGD = cross_val_predict(SGD, X_train, y_train_high, cv=5, method=\"predict_proba\")\n",
        "fpr_SGD, tpr_SGD, thresholds_SGD = roc_curve(y_train_high, y_probas_SGD[:,1])\n",
        "\n",
        "\n",
        "bayes = GaussianNB()\n",
        "#bayes.fit(X_train, y_train_high)\n",
        "y_probas_bayes = cross_val_predict(bayes, X_train, y_train_high, cv=5, method=\"predict_proba\")\n",
        "fpr_bayes, tpr_bayes, thresholds_bayes = roc_curve(y_train_high, y_probas_bayes[:,1])\n",
        "\n",
        "lr = LogisticRegression(C=100, max_iter=2000, random_state=42, solver='saga')\n",
        "y_probas_lr = cross_val_predict(lr, X_train, y_train_high, cv=5, method=\"predict_proba\")\n",
        "fpr_lr, tpr_lr, thresholds_lr = roc_curve(y_train_high, y_probas_lr[:,1])\n",
        "\n",
        "knn = KNeighborsClassifier(n_neighbors=3, p=1)\n",
        "y_probas_knn = cross_val_predict(knn, X_train, y_train_high, cv=5, method=\"predict_proba\")\n",
        "fpr_knn, tpr_knn, thresholds_knn = roc_curve(y_train_high, y_probas_knn[:,1])\n",
        "\n",
        "#plot figure\n",
        "plt.figure(figsize=(8, 6))                         # Not shown\n",
        "plt.plot([0, 1], [0, 1], 'k--') # dashed diagonal\n",
        "plt.plot(fpr_SGD, tpr_SGD, \"b:\", linewidth=4, label=\"SGD\")\n",
        "plt.plot(fpr_bayes, tpr_bayes, \"g:\", linewidth=3, label=\"Naive Bayes\")\n",
        "plt.plot(fpr_lr, tpr_lr, \"r:\", linewidth=2, label=\"Logistic Regression\")\n",
        "plt.plot(fpr_knn, tpr_knn, \"y:\", linewidth=1, label=\"KNN\")\n",
        "\n",
        "#plot_roc_curve(fpr_SGD, tpr_SGD)\n",
        "# plt.plot([4.837e-3, 4.837e-3], [0., 0.4368], \"r:\") # Not shown\n",
        "# plt.plot([0.0, 4.837e-3], [0.4368, 0.4368], \"r:\")  # Not shown\n",
        "# plt.plot([4.837e-3], [0.4368], \"ro\")               # Not shown\n",
        "plt.xlabel('False Positive Rate (Fall-Out)', fontsize=16) # Not shown\n",
        "plt.ylabel('True Positive Rate (Recall)', fontsize=16)    # Not shown\n",
        "plt.grid(True)\n",
        "plt.legend(loc=\"lower right\", fontsize=16)\n",
        "plt.show()\n",
        "\n"
      ],
      "metadata": {
        "colab": {
          "base_uri": "https://localhost:8080/",
          "height": 548
        },
        "id": "BgeVOOoRNDvj",
        "outputId": "8a07d576-08e0-4921-d424-fb9f36202d1e"
      },
      "execution_count": 23,
      "outputs": [
        {
          "output_type": "display_data",
          "data": {
            "text/plain": [
              "<Figure size 800x600 with 1 Axes>"
            ],
            "image/png": "[encoded data removed]"
          },
          "metadata": {}
        }
      ]
    },
    {
      "cell_type": "markdown",
      "source": [
        "# Conclusion and final remarks"
      ],
      "metadata": {
        "id": "exeYbqUohdnc"
      }
    },
    {
      "cell_type": "markdown",
      "source": [
        "Summary\n",
        "\n",
        "\n",
        "*   KNN Classifier: Achieved perfect accuracy and ROC-AUC. However, KNN's overfitting potential should be evaluated on larger, more varied datasets.\n",
        "*   Logistic Regression: Also perfect performance, likely due to data suitability for linear separability.\n",
        "*   Naive Bayes: Slightly lower accuracy but retains a strong ROC-AUC, showcasing robustness in probabilistic classification.\n",
        "*   SGD Classifier: Performed exceptionally well, matching logistic regression with its flexible linear model."
      ],
      "metadata": {
        "id": "SqqV0v9Shg4k"
      }
    }
  ]
}